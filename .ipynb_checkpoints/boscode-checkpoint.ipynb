{
 "cells": [
  {
   "cell_type": "markdown",
   "id": "67339172-9d98-42d0-8dc4-92779545ee64",
   "metadata": {},
   "source": [
    "<img style=\"float: right;\" src=\"misc/logo.png\" width= \"200\" height = \"200\">\n",
    "\n",
    "#  Data integration with Python 🐍\n",
    "_____________\n",
    "\n",
    "This exercise aims to introduce loading, plotting and integrating core data with Python. We will load XRF data and an image with Python, and then plot them together. These are common data types collected at BOSCORF.\n"
   ]
  },
  {
   "cell_type": "markdown",
   "id": "a48b9e3d-c01a-40dc-8475-1f81dded9e54",
   "metadata": {
    "tags": []
   },
   "source": [
    "### 1. Import functions 📚"
   ]
  },
  {
   "cell_type": "code",
   "execution_count": null,
   "id": "beeaa17e-e4b2-497f-becb-43427cb47790",
   "metadata": {},
   "outputs": [],
   "source": [
    "import matplotlib.pyplot as plt\n",
    "import numpy as np\n",
    "import pandas as pd\n",
    "from boscode import *\n",
    "\n",
    "%config InlineBackend.figure_format='retina'\n",
    "plt.rcParams.update({'font.size': 12})"
   ]
  },
  {
   "cell_type": "markdown",
   "id": "506f8730",
   "metadata": {
    "tags": []
   },
   "source": [
    "### 1. Load and plot XRF ⚡⏳"
   ]
  },
  {
   "cell_type": "markdown",
   "id": "51da5200-0f69-454d-8f3f-721a23a54069",
   "metadata": {},
   "source": [
    "First we will load the XRF data, using an example from the Whittard Canyon. We will load the data from Excel to a Pandas Dataframe, which is like Excel but for Python."
   ]
  },
  {
   "cell_type": "code",
   "execution_count": null,
   "id": "527e8321",
   "metadata": {},
   "outputs": [],
   "source": [
    "## Run this cell to load the data\n",
    "xrf = load_xrf(path = 'data/itrax/JC36/JC36_74_4/JC36_74_4/Results.txt')"
   ]
  },
  {
   "cell_type": "code",
   "execution_count": null,
   "id": "1124c558-30d5-4ac0-9be2-a274d0ef917a",
   "metadata": {},
   "outputs": [],
   "source": [
    "# creates a new columns with position in metres\n",
    "xrf['position (m)'] = xrf['position (mm)']/1000"
   ]
  },
  {
   "cell_type": "markdown",
   "id": "f046182b-c8e0-4b2e-b122-242198059ebf",
   "metadata": {},
   "source": [
    "We can then plot the data using Matplotlib, a library used for data visualisation in Python"
   ]
  },
  {
   "cell_type": "code",
   "execution_count": null,
   "id": "9f178352-6035-4480-a61a-a6f55a1d4a07",
   "metadata": {},
   "outputs": [],
   "source": [
    "data = ['Si', 'Ca', 'Fe']\n",
    "\n",
    "colors = ['red', 'green', 'black']\n",
    "\n",
    "linewidth = 1\n",
    "\n",
    "marker = None\n",
    "\n",
    "markersize = 0\n",
    "\n",
    "ylim = (1.2, 1.1)\n",
    "\n",
    "##################\n",
    "\n",
    "fig, ax = plt.subplots(ncols = len(data), figsize = (len(data) * 2, 8))\n",
    "\n",
    "for ax_no, i in enumerate(zip(data, colors)):\n",
    "\n",
    "    ax[ax_no].plot(xrf[i[0]], xrf['position (mm)']/1000, color = i[1], \n",
    "                   marker = marker, markersize = markersize, linewidth = linewidth)\n",
    "    ax[ax_no].set(ylim = ylim, xlabel = 'counts', title = i[0])\n",
    "    ax[ax_no].ticklabel_format(axis='x', style='sci', scilimits=(0,0))\n",
    "    ax[ax_no].xaxis.labelpad = 20 \n",
    "    \n",
    "ax[0].set(ylim = ylim, xlabel = 'counts', ylabel = 'depth of section [m]')\n",
    "\n",
    "plt.tight_layout(w_pad = 1)"
   ]
  },
  {
   "cell_type": "markdown",
   "id": "eb1b6795-c124-40c1-b374-4a53c7954ff7",
   "metadata": {
    "tags": []
   },
   "source": [
    "We can also use cross plots (scatter plots) to see relationships between data"
   ]
  },
  {
   "cell_type": "code",
   "execution_count": null,
   "id": "d14b98af-8042-41ad-aae6-9282aaa94baf",
   "metadata": {},
   "outputs": [],
   "source": [
    "data1 = ['Si', 'Ca', 'Zr']\n",
    "data2 = ['Ca', 'Fe', 'Fe']\n",
    "\n",
    "colors = ['red', 'green', 'k']\n",
    "\n",
    "marker = 'x'\n",
    "\n",
    "markersize = 10\n",
    "\n",
    "##################\n",
    "\n",
    "fig, ax = plt.subplots(ncols = len(data1), figsize = (len(data) * 3, 4))\n",
    "\n",
    "for ax_no, i in enumerate(zip(data1, data2, colors)):\n",
    "\n",
    "    ax[ax_no].scatter(xrf[i[0]], xrf[i[1]], color = i[2], \n",
    "                   marker = marker, s = markersize)\n",
    "    ax[ax_no].set(xlabel = f'{i[0]} [counts]', ylabel = f'{i[1]} [counts]', title = f'{i[0]} v {i[1]}')\n",
    "    ax[ax_no].ticklabel_format(axis='x', style='sci', scilimits=(0,0))\n",
    "    ax[ax_no].ticklabel_format(axis='y', style='sci', scilimits=(0,0))\n",
    "    ax[ax_no].xaxis.labelpad = 20 \n",
    "    \n",
    "plt.tight_layout(w_pad = 1)"
   ]
  },
  {
   "cell_type": "markdown",
   "id": "f5c97aef-1131-45e3-a0fc-20cac63257e0",
   "metadata": {},
   "source": [
    "### 2. Load and plot image and xray 📷 ⏳"
   ]
  },
  {
   "cell_type": "markdown",
   "id": "45ed7623-ce97-4f90-b2a6-03f64ffe5c6f",
   "metadata": {},
   "source": [
    "You can also load images directly"
   ]
  },
  {
   "cell_type": "code",
   "execution_count": null,
   "id": "4711efc3-ff2c-4bfb-b03c-82028253da39",
   "metadata": {},
   "outputs": [],
   "source": [
    "image_path = f'data/images/JC036_74_4/IM001_01.tif'\n",
    "\n",
    "core_image = plt.imread(image_path)\n",
    "\n",
    "plt.figure(figsize = (4, 5))\n",
    "plt.imshow(core_image, aspect = 'auto')\n",
    "# plt.imshow(core_image[:-325], aspect = 'auto')"
   ]
  },
  {
   "cell_type": "markdown",
   "id": "066bf805-be73-4dc0-a48b-3486a0d95081",
   "metadata": {},
   "source": [
    "The functions below do some work in the background to help out"
   ]
  },
  {
   "cell_type": "code",
   "execution_count": null,
   "id": "8f39414b-d0fb-4f75-a168-eb03663af10b",
   "metadata": {},
   "outputs": [],
   "source": [
    "core_df, core, images_shp = load_image(74, 4)\n",
    "xray, lam = load_xray(74, 4)"
   ]
  },
  {
   "cell_type": "code",
   "execution_count": null,
   "id": "58e7367c-7688-430c-9194-5d1b057eac00",
   "metadata": {},
   "outputs": [],
   "source": [
    "ylim_upper = 0.8\n",
    "ylim_lower = 1.4\n",
    "\n",
    "xray_min = 0.55\n",
    "xray_max = 0.65\n",
    "\n",
    "###############\n",
    "\n",
    "fig, ax = plt.subplots(figsize = (6, 8), ncols = 2)\n",
    "\n",
    "ax[0].imshow(core, aspect = 'auto')\n",
    "ax[1].imshow(lam, aspect = 'auto', cmap = 'gray', vmin = xray_min, vmax = xray_max)\n",
    "\n",
    "for ax in ax:\n",
    "\n",
    "    ax.set(yticks = np.arange(0, len(core), 1000), \n",
    "          yticklabels = np.arange(0, len(core), 1000)/(5000), \n",
    "           ylabel = '[m]', ylim = (ylim_lower * 5000, ylim_upper * 5000))\n",
    "\n",
    "plt.tight_layout()"
   ]
  },
  {
   "cell_type": "markdown",
   "id": "b88ffd6b-773e-4e8f-b1ce-a03901d999e6",
   "metadata": {
    "tags": []
   },
   "source": [
    "### 3. Integrate image and x-ray and XRF 📷 ⏳"
   ]
  },
  {
   "cell_type": "markdown",
   "id": "1b5912f7-6764-4f9e-a9ac-a5ef30e769c1",
   "metadata": {},
   "source": [
    "Now we can integrate our image and x-ray data to start making interpretations "
   ]
  },
  {
   "cell_type": "code",
   "execution_count": null,
   "id": "1ba42c97-3df8-41cd-bf05-c7a0d57aef4a",
   "metadata": {
    "tags": []
   },
   "outputs": [],
   "source": [
    "data = ['Si']\n",
    "\n",
    "ylim_upper = 0.5\n",
    "ylim_lower = 0.8\n",
    "\n",
    "#######################\n",
    "\n",
    "fig, ax = plt.subplots(figsize = (8, 8), ncols = 3)\n",
    "\n",
    "ax[0].imshow(core, aspect = 'auto')\n",
    "ax[0].set(title = 'image')\n",
    "ax[0].set(yticks = np.arange(0, len(core), 1000), \n",
    "          yticklabels = np.arange(0, len(core), 1000)/5000,\n",
    "         ylabel = 'depth of section [m]') \n",
    "ax[0].set(yticks = np.arange(0, len(core), 1000), \n",
    "          yticklabels = np.arange(0, len(core), 1000)/(5000), \n",
    "           ylabel = '[m]', ylim = (ylim_lower * 5000, ylim_upper * 5000))\n",
    "\n",
    "ax[1].imshow(lam, aspect = 'auto', cmap = 'gray', vmin = 0.55, vmax = 0.65)\n",
    "ax[1].set(title = 'xray')\n",
    "ax[1].set(yticks = np.arange(0, len(core), 1000), \n",
    "          yticklabels = np.arange(0, len(core), 1000)/(5000), \n",
    "           ylabel = '[m]', ylim = (ylim_lower * 5000, ylim_upper * 5000))\n",
    "ax[1].axes.get_xaxis().set_visible(False)\n",
    "ax[1].axes.get_yaxis().set_visible(False)\n",
    "\n",
    "ax[2].plot(xrf[data], (xrf['position_corr']/1000) - 0.02, color = 'k', lw = 1)\n",
    "ax[2].set(ylim = (ylim_lower, ylim_upper), xlim = (0), title = data[0])\n",
    "ax[2].axes.get_yaxis().set_visible(False)\n",
    "\n",
    "plt.tight_layout()"
   ]
  }
 ],
 "metadata": {
  "kernelspec": {
   "display_name": "general",
   "language": "python",
   "name": "general"
  },
  "language_info": {
   "codemirror_mode": {
    "name": "ipython",
    "version": 3
   },
   "file_extension": ".py",
   "mimetype": "text/x-python",
   "name": "python",
   "nbconvert_exporter": "python",
   "pygments_lexer": "ipython3",
   "version": "3.7.12"
  }
 },
 "nbformat": 4,
 "nbformat_minor": 5
}
