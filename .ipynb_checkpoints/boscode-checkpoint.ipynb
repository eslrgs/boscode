{
 "cells": [
  {
   "cell_type": "markdown",
   "id": "67339172-9d98-42d0-8dc4-92779545ee64",
   "metadata": {},
   "source": [
    "<img style=\"float: right;\" src=\"misc/logo.png\" width= \"200\" height = \"200\">\n",
    "\n",
    "#  Data integration with Python 🐍\n",
    "_____________\n",
    "\n",
    "This exercise aims to introduce loading, plotting and integrating core data with Python. We will load XRF data and an image with Python. These are common data types collected at BOSCORF.\n"
   ]
  },
  {
   "cell_type": "markdown",
   "id": "a48b9e3d-c01a-40dc-8475-1f81dded9e54",
   "metadata": {
    "tags": []
   },
   "source": [
    "### 1. Import functions 📚"
   ]
  },
  {
   "cell_type": "code",
   "execution_count": null,
   "id": "beeaa17e-e4b2-497f-becb-43427cb47790",
   "metadata": {},
   "outputs": [],
   "source": [
    "import matplotlib.pyplot as plt\n",
    "import numpy as np\n",
    "import pandas as pd\n",
    "from boscode import *\n",
    "\n",
    "%config InlineBackend.figure_format='retina'\n",
    "plt.rcParams.update({'font.size': 12})\n",
    "plt.rcParams['font.family'] = \"Arial\""
   ]
  },
  {
   "cell_type": "markdown",
   "id": "506f8730",
   "metadata": {
    "tags": []
   },
   "source": [
    "### 1. Load and plot XRF ⚡⏳"
   ]
  },
  {
   "cell_type": "markdown",
   "id": "51da5200-0f69-454d-8f3f-721a23a54069",
   "metadata": {},
   "source": [
    "First we will load the XRF data, using an example from the Whittard Canyon. We will load the data from Excel to a Pandas Dataframe, which is like Excel but for Python."
   ]
  },
  {
   "cell_type": "code",
   "execution_count": null,
   "id": "527e8321",
   "metadata": {},
   "outputs": [],
   "source": [
    "xrf = load_xrf(path = 'data/itrax/JC36/JC36_74_4/JC36_74_4/Results.txt')"
   ]
  },
  {
   "cell_type": "code",
   "execution_count": null,
   "id": "9f178352-6035-4480-a61a-a6f55a1d4a07",
   "metadata": {},
   "outputs": [],
   "source": [
    "fig, ax = plt.subplots(ncols = 3)\n",
    "\n",
    "ax[0].plot(xrf.Si, xrf['position (mm)'])\n",
    "ax[1].plot(xrf.Ca, xrf['position (mm)'])\n",
    "ax[2].plot(xrf.Fe, xrf['position (mm)'])\n",
    "\n",
    "plt.tight_layout()"
   ]
  },
  {
   "cell_type": "markdown",
   "id": "f5c97aef-1131-45e3-a0fc-20cac63257e0",
   "metadata": {},
   "source": [
    "### 2. Load and plot image and xray 📷 ⏳"
   ]
  },
  {
   "cell_type": "code",
   "execution_count": null,
   "id": "4711efc3-ff2c-4bfb-b03c-82028253da39",
   "metadata": {},
   "outputs": [],
   "source": [
    "image_path = f'data/images/JC036_74_4/IM001_01.tif'\n",
    "xray_path = f'data/scoutxscan/JC36-74-4/Laminography slices/Depth007_+45.mm.tif'\n",
    "\n",
    "core_image = plt.imread(image_path)\n",
    "xray_image = plt.imread(xray_path)\n",
    "\n",
    "plt.figure(figsize = (4, 8))\n",
    "plt.imshow(core_image[:-325], aspect = 'auto')"
   ]
  },
  {
   "cell_type": "code",
   "execution_count": null,
   "id": "8f39414b-d0fb-4f75-a168-eb03663af10b",
   "metadata": {},
   "outputs": [],
   "source": [
    "core_df, core, images_shp = load_image(74, 4)\n",
    "xray = load_xray(74, 4)"
   ]
  },
  {
   "cell_type": "code",
   "execution_count": null,
   "id": "58e7367c-7688-430c-9194-5d1b057eac00",
   "metadata": {},
   "outputs": [],
   "source": [
    "fig, ax = plt.subplots(figsize = (6, 8), ncols = 2)\n",
    "\n",
    "ax[0].imshow(core, aspect = 'auto')\n",
    "ax[1].imshow(xray, aspect = 'auto', cmap = 'gray', vmin = 0.55, vmax = 0.65)\n",
    "\n",
    "for ax in ax:\n",
    "\n",
    "    ax.set(yticks = np.arange(0, len(core), 1000), \n",
    "          yticklabels = np.arange(0, len(core), 1000)/(5000), \n",
    "           ylabel = '[m]', ylim = (6000, 4000))\n",
    "\n",
    "plt.tight_layout()"
   ]
  },
  {
   "cell_type": "markdown",
   "id": "b88ffd6b-773e-4e8f-b1ce-a03901d999e6",
   "metadata": {
    "tags": []
   },
   "source": [
    "### 3. Integrate image and x-ray and XRF 📷 ⏳"
   ]
  },
  {
   "cell_type": "code",
   "execution_count": null,
   "id": "1ba42c97-3df8-41cd-bf05-c7a0d57aef4a",
   "metadata": {
    "tags": []
   },
   "outputs": [],
   "source": [
    "fig, ax = plt.subplots(figsize = (6, 8), ncols = 3)\n",
    "\n",
    "ax[0].imshow(core, aspect = 'auto')\n",
    "ax[0].set(title = 'image')\n",
    "ax[0].set(yticks = np.arange(0, len(core), 1000), \n",
    "          yticklabels = np.arange(0, len(core), 1000)/5000,\n",
    "         ylabel = '[m]') \n",
    "\n",
    "ax[1].imshow(xray, aspect = 'auto', cmap = 'gray', vmin = 0.55, vmax = 0.65)\n",
    "ax[1].set(title = 'xray')\n",
    "ax[1].axes.get_xaxis().set_visible(False)\n",
    "ax[1].axes.get_yaxis().set_visible(False)\n",
    "\n",
    "ax[2].plot(xrf['Si']/xrf['Ca'], (xrf['position_corr']/1000) - 0.02, color = 'k', lw = 1)\n",
    "ax[2].set(ylim = (core_df.depth_m.max(), core_df.depth_m.min()), xlim = (0), title = 'Si/Ca')\n",
    "ax[2].axes.get_yaxis().set_visible(False)\n",
    "\n",
    "plt.tight_layout()"
   ]
  },
  {
   "cell_type": "code",
   "execution_count": null,
   "id": "17732c08-e89a-410b-b1f8-c7c156997277",
   "metadata": {},
   "outputs": [],
   "source": []
  }
 ],
 "metadata": {
  "kernelspec": {
   "display_name": "general",
   "language": "python",
   "name": "general"
  },
  "language_info": {
   "codemirror_mode": {
    "name": "ipython",
    "version": 3
   },
   "file_extension": ".py",
   "mimetype": "text/x-python",
   "name": "python",
   "nbconvert_exporter": "python",
   "pygments_lexer": "ipython3",
   "version": "3.7.12"
  }
 },
 "nbformat": 4,
 "nbformat_minor": 5
}
