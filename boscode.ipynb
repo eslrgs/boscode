{
 "cells": [
  {
   "cell_type": "markdown",
   "id": "67339172-9d98-42d0-8dc4-92779545ee64",
   "metadata": {},
   "source": [
    "<img style=\"float: right;\" src=\"misc/logo.png\" width= \"200\" height = \"200\">\n",
    "\n",
    "#  Data integration with Python 🐍\n",
    "_____________\n",
    "\n",
    "This exercise aims to introduce loading, plotting and integrating core data with Python. We will load XRF data and an image with Python, and then plot them together. These are common data types collected at BOSCORF.\n",
    "\n",
    "____________\n",
    "\n",
    "**TIPS**\n",
    "\n",
    "* Press 'shift + enter' or 'shift + command' to run a cell, or press 'Cell' menu on the top bar\n",
    "* Click 'b' to make a new cell, or press 'Insert' menu on the top bar \n",
    "* To clear the whole notebook and its outputs press 'Kernel' then 'Restart and Clear Output'\n",
    "\n",
    "____________"
   ]
  },
  {
   "cell_type": "markdown",
   "id": "a48b9e3d-c01a-40dc-8475-1f81dded9e54",
   "metadata": {
    "tags": []
   },
   "source": [
    "### 1. Import functions 📚"
   ]
  },
  {
   "cell_type": "code",
   "execution_count": null,
   "id": "beeaa17e-e4b2-497f-becb-43427cb47790",
   "metadata": {},
   "outputs": [],
   "source": [
    "import matplotlib.pyplot as plt\n",
    "import numpy as np\n",
    "import pandas as pd\n",
    "from boscode import *\n",
    "\n",
    "%config InlineBackend.figure_format='retina'\n",
    "plt.rcParams.update({'font.size': 12})\n",
    "pd.set_option('display.max_columns', None)"
   ]
  },
  {
   "cell_type": "markdown",
   "id": "506f8730",
   "metadata": {
    "tags": []
   },
   "source": [
    "### 1. Load and plot XRF ⚡⏳"
   ]
  },
  {
   "cell_type": "markdown",
   "id": "51da5200-0f69-454d-8f3f-721a23a54069",
   "metadata": {},
   "source": [
    "First we will load the XRF data, using an example from the Whittard Canyon. We will load the data from Excel to a Pandas Dataframe, which is like Excel but for Python.\n",
    "\n",
    "Run the following cell:"
   ]
  },
  {
   "cell_type": "code",
   "execution_count": null,
   "id": "527e8321",
   "metadata": {},
   "outputs": [],
   "source": [
    "## Run this cell to load the data\n",
    "xrf = load_xrf(path = 'data/itrax/JC36/JC36_74_4/JC36_74_4/Results.txt')"
   ]
  },
  {
   "cell_type": "code",
   "execution_count": null,
   "id": "1124c558-30d5-4ac0-9be2-a274d0ef917a",
   "metadata": {},
   "outputs": [],
   "source": [
    "# creates a new columns with position in metres\n",
    "xrf['position (m)'] = xrf['position (mm)']/1000"
   ]
  },
  {
   "cell_type": "markdown",
   "id": "f046182b-c8e0-4b2e-b122-242198059ebf",
   "metadata": {},
   "source": [
    "**We can then plot the data using Matplotlib, a library used for data visualisation in Python**\n",
    "\n",
    "* to select different elements ('data') run in a cell:\n",
    "\n",
    "    **xrf.columns**\n",
    "    \n",
    "* to select different colours follow this link:\n",
    "\n",
    "    https://matplotlib.org/stable/gallery/color/named_colors.html\n",
    "\n",
    "* to select different markers follow this link:\n",
    "\n",
    "    https://matplotlib.org/stable/api/markers_api.html\n",
    "    \n",
    "    \n",
    " * to zoom in on a section change 'ylim'"
   ]
  },
  {
   "cell_type": "code",
   "execution_count": null,
   "id": "df21c6b3-2924-4260-b663-b9dfeb342c2d",
   "metadata": {},
   "outputs": [],
   "source": [
    "xrf.columns"
   ]
  },
  {
   "cell_type": "code",
   "execution_count": null,
   "id": "9f178352-6035-4480-a61a-a6f55a1d4a07",
   "metadata": {},
   "outputs": [],
   "source": [
    "data = ['Si', 'Ca']\n",
    "\n",
    "colors = ['red', 'green']\n",
    "\n",
    "linewidth = 1\n",
    "\n",
    "marker = None\n",
    "\n",
    "markersize = 0\n",
    "\n",
    "ylim = (1.2, 0)\n",
    "\n",
    "##################\n",
    "\n",
    "fig, ax = plt.subplots(ncols = len(data), figsize = (len(data) * 2, 8))\n",
    "\n",
    "for ax_no, i in enumerate(zip(data, colors)):\n",
    "\n",
    "    ax[ax_no].plot(xrf[i[0]], xrf['position (mm)']/1000, color = i[1], \n",
    "                   marker = marker, markersize = markersize, linewidth = linewidth)\n",
    "    ax[ax_no].set(ylim = ylim, xlabel = 'counts', title = i[0])\n",
    "    ax[ax_no].ticklabel_format(axis='x', style='sci', scilimits=(0,0))\n",
    "    ax[ax_no].xaxis.labelpad = 20 \n",
    "    \n",
    "ax[0].set(ylim = ylim, xlabel = 'counts', ylabel = 'depth of section [m]')\n",
    "\n",
    "plt.tight_layout(w_pad = 2)"
   ]
  },
  {
   "cell_type": "markdown",
   "id": "eb1b6795-c124-40c1-b374-4a53c7954ff7",
   "metadata": {
    "tags": []
   },
   "source": [
    "**We can also use cross plots (scatter plots) to see relationships between data**\n",
    "\n",
    "* to select different colour maps follow this link:\n",
    "\n",
    "    https://matplotlib.org/stable/tutorials/colors/colormaps.html\n"
   ]
  },
  {
   "cell_type": "code",
   "execution_count": null,
   "id": "d14b98af-8042-41ad-aae6-9282aaa94baf",
   "metadata": {},
   "outputs": [],
   "source": [
    "data1 = ['Si', 'Si']\n",
    "data2 = ['Ca', 'Fe']\n",
    "\n",
    "colour_map = ['magma', 'viridis']\n",
    "\n",
    "marker = 'o'\n",
    "\n",
    "markersize = 10\n",
    "\n",
    "figsize = (7, 4)\n",
    "\n",
    "##################\n",
    "\n",
    "fig, ax = plt.subplots(ncols = len(data1), figsize = figsize)\n",
    "\n",
    "for ax_no, i in enumerate(zip(data1, data2, colour_map)):\n",
    "\n",
    "    ax[ax_no].scatter(xrf[i[0]], xrf[i[1]], c = xrf[i[1]], edgecolor = 'k',\n",
    "                   lw = 0.2, marker = marker, s = markersize, cmap = i[2])\n",
    "    ax[ax_no].set(xlabel = f'{i[0]} [counts]', ylabel = f'{i[1]} [counts]')\n",
    "    ax[ax_no].ticklabel_format(axis='x', style='sci', scilimits=(0,0))\n",
    "    ax[ax_no].ticklabel_format(axis='y', style='sci', scilimits=(0,0))\n",
    "    ax[ax_no].xaxis.labelpad = 20 \n",
    "    ax[ax_no].set_title(label = f'{i[0]} v {i[1]}', pad = 20)\n",
    "\n",
    "plt.tight_layout(w_pad = 1)"
   ]
  },
  {
   "cell_type": "markdown",
   "id": "f5c97aef-1131-45e3-a0fc-20cac63257e0",
   "metadata": {},
   "source": [
    "### 2. Load and plot image and xray 📷 ⏳"
   ]
  },
  {
   "cell_type": "markdown",
   "id": "45ed7623-ce97-4f90-b2a6-03f64ffe5c6f",
   "metadata": {},
   "source": [
    "You can also load images directly"
   ]
  },
  {
   "cell_type": "code",
   "execution_count": null,
   "id": "4711efc3-ff2c-4bfb-b03c-82028253da39",
   "metadata": {},
   "outputs": [],
   "source": [
    "image_path = f'data/images/JC036_74_4/IM001_01.tif'\n",
    "\n",
    "core_image = plt.imread(image_path)\n",
    "\n",
    "plt.figure(figsize = (2, 7))\n",
    "plt.imshow(core_image, aspect = 'auto')\n",
    "# plt.imshow(core_image[:-325], aspect = 'auto')"
   ]
  },
  {
   "cell_type": "markdown",
   "id": "066bf805-be73-4dc0-a48b-3486a0d95081",
   "metadata": {},
   "source": [
    "The functions below do some work in the background to help out\n",
    "\n",
    "* Use 'ylim_upper' and 'ylim_lower' to zoom in the core\n",
    "\n",
    "* Use 'xray_min' and 'xray_max' to change the xray contrast"
   ]
  },
  {
   "cell_type": "code",
   "execution_count": null,
   "id": "8f39414b-d0fb-4f75-a168-eb03663af10b",
   "metadata": {},
   "outputs": [],
   "source": [
    "core_df, core, images_shp = load_image(74, 4)\n",
    "xray, lam = load_xray(74, 4)"
   ]
  },
  {
   "cell_type": "code",
   "execution_count": null,
   "id": "58e7367c-7688-430c-9194-5d1b057eac00",
   "metadata": {},
   "outputs": [],
   "source": [
    "ylim_upper = 0.8\n",
    "ylim_lower = 1.4\n",
    "\n",
    "xray_min = 0.58\n",
    "xray_max = 0.65\n",
    "\n",
    "###############\n",
    "\n",
    "fig, ax = plt.subplots(figsize = (6, 8), ncols = 2)\n",
    "\n",
    "ax[0].imshow(core, aspect = 'auto')\n",
    "ax[1].imshow(lam, aspect = 'auto', cmap = 'gray', vmin = xray_min, vmax = xray_max)\n",
    "\n",
    "for ax in ax:\n",
    "\n",
    "    ax.set(yticks = np.arange(0, len(core), 1000), \n",
    "          yticklabels = np.arange(0, len(core), 1000)/(5000), \n",
    "           ylabel = '[m]', ylim = (ylim_lower * 5000, ylim_upper * 5000))\n",
    "\n",
    "plt.tight_layout()"
   ]
  },
  {
   "cell_type": "markdown",
   "id": "b88ffd6b-773e-4e8f-b1ce-a03901d999e6",
   "metadata": {
    "tags": []
   },
   "source": [
    "### 3. Integrate image and x-ray and XRF 📷 ⏳"
   ]
  },
  {
   "cell_type": "markdown",
   "id": "1b5912f7-6764-4f9e-a9ac-a5ef30e769c1",
   "metadata": {},
   "source": [
    "Now we can integrate our image and x-ray data to start making interpretations \n",
    "\n",
    "* Change the element in 'data' to check how different elements relate to the stratigraphy "
   ]
  },
  {
   "cell_type": "code",
   "execution_count": null,
   "id": "1ba42c97-3df8-41cd-bf05-c7a0d57aef4a",
   "metadata": {
    "tags": []
   },
   "outputs": [],
   "source": [
    "data = ['Si']\n",
    "\n",
    "ylim_upper = 0.\n",
    "ylim_lower = 1.1\n",
    "\n",
    "#######################\n",
    "\n",
    "fig, ax = plt.subplots(figsize = (6, 8), ncols = 3)\n",
    "\n",
    "ax[0].imshow(core, aspect = 'auto')\n",
    "ax[0].set(title = 'image')\n",
    "ax[0].set(yticks = np.arange(0, len(core), 1000), \n",
    "          yticklabels = np.arange(0, len(core), 1000)/5000,\n",
    "         ylabel = 'depth of section [m]') \n",
    "ax[0].set(yticks = np.arange(0, len(core), 1000), \n",
    "          yticklabels = np.arange(0, len(core), 1000)/(5000), \n",
    "           ylabel = '[m]', ylim = (ylim_lower * 5000, ylim_upper * 5000))\n",
    "\n",
    "ax[1].imshow(lam, aspect = 'auto', cmap = 'gray', vmin = 0.58, vmax = 0.65)\n",
    "ax[1].set(title = 'xray')\n",
    "ax[1].set(yticks = np.arange(0, len(core), 1000), \n",
    "          yticklabels = np.arange(0, len(core), 1000)/(5000), \n",
    "           ylabel = '[m]', ylim = (ylim_lower * 5000, ylim_upper * 5000))\n",
    "ax[1].axes.get_xaxis().set_visible(False)\n",
    "ax[1].axes.get_yaxis().set_visible(False)\n",
    "\n",
    "ax[2].plot(xrf[data], (xrf['position_corr']/1000) - 0.02, color = 'k', lw = 1)\n",
    "ax[2].set(ylim = (ylim_lower, ylim_upper), xlim = (0), title = data[0])\n",
    "ax[2].axes.get_yaxis().set_visible(False)\n",
    "\n",
    "plt.tight_layout()"
   ]
  }
 ],
 "metadata": {
  "kernelspec": {
   "display_name": "general",
   "language": "python",
   "name": "general"
  },
  "language_info": {
   "codemirror_mode": {
    "name": "ipython",
    "version": 3
   },
   "file_extension": ".py",
   "mimetype": "text/x-python",
   "name": "python",
   "nbconvert_exporter": "python",
   "pygments_lexer": "ipython3",
   "version": "3.7.12"
  }
 },
 "nbformat": 4,
 "nbformat_minor": 5
}
